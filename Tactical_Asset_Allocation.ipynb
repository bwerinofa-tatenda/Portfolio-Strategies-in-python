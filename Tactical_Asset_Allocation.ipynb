{
 "cells": [
  {
   "cell_type": "markdown",
   "metadata": {},
   "source": [
    "# Tactical Asset Allocation"
   ]
  },
  {
   "cell_type": "markdown",
   "metadata": {},
   "source": [
    "https://www.investopedia.com/terms/t/tacticalassetallocation.asp"
   ]
  },
  {
   "cell_type": "markdown",
   "metadata": {},
   "source": [
    "### Tactical Asset Allocation (TAA) Basics \n",
    "Cash = 10%  \n",
    "Bonds = 35%  \n",
    "Stocks = 45%  \n",
    "Commodities = 10%  "
   ]
  },
  {
   "cell_type": "markdown",
   "metadata": {},
   "source": [
    "Cash = 5%  \n",
    "Bonds = 35%  \n",
    "Stocks = 45%  \n",
    "Commodities = 15%  "
   ]
  },
  {
   "cell_type": "code",
   "execution_count": 18,
   "metadata": {
    "execution": {
     "iopub.execute_input": "2020-06-26T00:41:37.945Z",
     "iopub.status.busy": "2020-06-26T00:41:37.936Z",
     "iopub.status.idle": "2020-06-26T00:41:38.873Z",
     "shell.execute_reply": "2020-06-26T00:41:39.104Z"
    },
    "inputHidden": false,
    "outputHidden": false
   },
   "outputs": [],
   "source": [
    "import numpy as np\n",
    "import pandas as pd\n",
    "import matplotlib.pyplot as plt\n",
    "import seaborn as sns\n",
    "import math\n",
    "\n",
    "import warnings\n",
    "warnings.filterwarnings(\"ignore\")\n",
    "\n",
    "# yfinance is used to fetch data \n",
    "import yfinance as yf\n",
    "yf.pdr_override()"
   ]
  },
  {
   "cell_type": "code",
   "execution_count": 19,
   "metadata": {
    "execution": {
     "iopub.execute_input": "2020-06-26T00:41:38.909Z",
     "iopub.status.busy": "2020-06-26T00:41:38.897Z",
     "iopub.status.idle": "2020-06-26T00:41:38.928Z",
     "shell.execute_reply": "2020-06-26T00:41:39.111Z"
    },
    "inputHidden": false,
    "outputHidden": false
   },
   "outputs": [],
   "source": [
    "Cash = 100000.00\n",
    "Cash_5 = Cash * 0.05"
   ]
  },
  {
   "cell_type": "code",
   "execution_count": 20,
   "metadata": {
    "execution": {
     "iopub.execute_input": "2020-06-26T00:41:38.957Z",
     "iopub.status.busy": "2020-06-26T00:41:38.945Z",
     "iopub.status.idle": "2020-06-26T00:41:38.985Z",
     "shell.execute_reply": "2020-06-26T00:41:39.116Z"
    },
    "inputHidden": false,
    "outputHidden": false
   },
   "outputs": [
    {
     "name": "stdout",
     "output_type": "stream",
     "text": [
      "How much cash left to invest?\n",
      "95000.0\n"
     ]
    }
   ],
   "source": [
    "print('How much cash left to invest?')\n",
    "cash_to_invest = Cash - Cash_5\n",
    "print(round(cash_to_invest, 2))"
   ]
  },
  {
   "cell_type": "code",
   "execution_count": 21,
   "metadata": {
    "execution": {
     "iopub.execute_input": "2020-06-26T00:41:39.018Z",
     "iopub.status.busy": "2020-06-26T00:41:39.006Z",
     "iopub.status.idle": "2020-06-26T00:41:39.035Z",
     "shell.execute_reply": "2020-06-26T00:41:42.449Z"
    },
    "inputHidden": false,
    "outputHidden": false
   },
   "outputs": [],
   "source": [
    "# input\n",
    "symbols = ['ZROZ','AAPL','SB']\n",
    "start = '2012-01-01'\n",
    "end = '2019-01-01'\n",
    "title = \"Tactical Asset Allocation\""
   ]
  },
  {
   "cell_type": "code",
   "execution_count": 22,
   "metadata": {
    "execution": {
     "iopub.execute_input": "2020-06-26T00:41:39.068Z",
     "iopub.status.busy": "2020-06-26T00:41:39.056Z",
     "iopub.status.idle": "2020-06-26T00:41:40.746Z",
     "shell.execute_reply": "2020-06-26T00:41:42.456Z"
    },
    "inputHidden": false,
    "outputHidden": false
   },
   "outputs": [
    {
     "name": "stdout",
     "output_type": "stream",
     "text": [
      "[*********************100%***********************]  1 of 1 completed\n",
      "[*********************100%***********************]  1 of 1 completed\n",
      "[*********************100%***********************]  1 of 1 completed\n"
     ]
    }
   ],
   "source": [
    "df = pd.DataFrame()\n",
    "for s in symbols:\n",
    "    df[s] = yf.download(s,start,end)['Adj Close']"
   ]
  },
  {
   "cell_type": "code",
   "execution_count": 23,
   "metadata": {
    "execution": {
     "iopub.execute_input": "2020-06-26T00:41:40.778Z",
     "iopub.status.busy": "2020-06-26T00:41:40.762Z",
     "iopub.status.idle": "2020-06-26T00:41:40.801Z",
     "shell.execute_reply": "2020-06-26T00:41:42.462Z"
    },
    "inputHidden": false,
    "outputHidden": false
   },
   "outputs": [
    {
     "name": "stdout",
     "output_type": "stream",
     "text": [
      "How many years of investing?\n",
      "7 years\n"
     ]
    }
   ],
   "source": [
    "from datetime import datetime\n",
    "from dateutil import relativedelta\n",
    "\n",
    "d1 = datetime.strptime(start, \"%Y-%m-%d\")\n",
    "d2 = datetime.strptime(end, \"%Y-%m-%d\")\n",
    "delta = relativedelta.relativedelta(d2,d1)\n",
    "print('How many years of investing?')\n",
    "print('%s years' % delta.years)"
   ]
  },
  {
   "cell_type": "code",
   "execution_count": 24,
   "metadata": {
    "execution": {
     "iopub.execute_input": "2020-06-26T00:41:40.831Z",
     "iopub.status.busy": "2020-06-26T00:41:40.819Z",
     "iopub.status.idle": "2020-06-26T00:41:40.854Z",
     "shell.execute_reply": "2020-06-26T00:41:42.468Z"
    },
    "inputHidden": false,
    "outputHidden": false
   },
   "outputs": [
    {
     "data": {
      "text/html": [
       "<div>\n",
       "<style scoped>\n",
       "    .dataframe tbody tr th:only-of-type {\n",
       "        vertical-align: middle;\n",
       "    }\n",
       "\n",
       "    .dataframe tbody tr th {\n",
       "        vertical-align: top;\n",
       "    }\n",
       "\n",
       "    .dataframe thead th {\n",
       "        text-align: right;\n",
       "    }\n",
       "</style>\n",
       "<table border=\"1\" class=\"dataframe\">\n",
       "  <thead>\n",
       "    <tr style=\"text-align: right;\">\n",
       "      <th></th>\n",
       "      <th>ZROZ</th>\n",
       "      <th>AAPL</th>\n",
       "      <th>SB</th>\n",
       "    </tr>\n",
       "    <tr>\n",
       "      <th>Date</th>\n",
       "      <th></th>\n",
       "      <th></th>\n",
       "      <th></th>\n",
       "    </tr>\n",
       "  </thead>\n",
       "  <tbody>\n",
       "    <tr>\n",
       "      <th>2012-01-03</th>\n",
       "      <td>83.977608</td>\n",
       "      <td>12.557468</td>\n",
       "      <td>5.250925</td>\n",
       "    </tr>\n",
       "    <tr>\n",
       "      <th>2012-01-04</th>\n",
       "      <td>82.734703</td>\n",
       "      <td>12.624949</td>\n",
       "      <td>5.352229</td>\n",
       "    </tr>\n",
       "    <tr>\n",
       "      <th>2012-01-05</th>\n",
       "      <td>81.738815</td>\n",
       "      <td>12.765116</td>\n",
       "      <td>5.571721</td>\n",
       "    </tr>\n",
       "    <tr>\n",
       "      <th>2012-01-06</th>\n",
       "      <td>82.788734</td>\n",
       "      <td>12.898557</td>\n",
       "      <td>5.504185</td>\n",
       "    </tr>\n",
       "    <tr>\n",
       "      <th>2012-01-09</th>\n",
       "      <td>82.487679</td>\n",
       "      <td>12.878096</td>\n",
       "      <td>5.529511</td>\n",
       "    </tr>\n",
       "  </tbody>\n",
       "</table>\n",
       "</div>"
      ],
      "text/plain": [
       "                 ZROZ       AAPL        SB\n",
       "Date                                      \n",
       "2012-01-03  83.977608  12.557468  5.250925\n",
       "2012-01-04  82.734703  12.624949  5.352229\n",
       "2012-01-05  81.738815  12.765116  5.571721\n",
       "2012-01-06  82.788734  12.898557  5.504185\n",
       "2012-01-09  82.487679  12.878096  5.529511"
      ]
     },
     "execution_count": 24,
     "metadata": {},
     "output_type": "execute_result"
    }
   ],
   "source": [
    "df.head()"
   ]
  },
  {
   "cell_type": "code",
   "execution_count": 25,
   "metadata": {
    "execution": {
     "iopub.execute_input": "2020-06-26T00:41:40.882Z",
     "iopub.status.busy": "2020-06-26T00:41:40.871Z",
     "iopub.status.idle": "2020-06-26T00:41:40.910Z",
     "shell.execute_reply": "2020-06-26T00:41:42.474Z"
    },
    "inputHidden": false,
    "outputHidden": false
   },
   "outputs": [
    {
     "data": {
      "text/html": [
       "<div>\n",
       "<style scoped>\n",
       "    .dataframe tbody tr th:only-of-type {\n",
       "        vertical-align: middle;\n",
       "    }\n",
       "\n",
       "    .dataframe tbody tr th {\n",
       "        vertical-align: top;\n",
       "    }\n",
       "\n",
       "    .dataframe thead th {\n",
       "        text-align: right;\n",
       "    }\n",
       "</style>\n",
       "<table border=\"1\" class=\"dataframe\">\n",
       "  <thead>\n",
       "    <tr style=\"text-align: right;\">\n",
       "      <th></th>\n",
       "      <th>ZROZ</th>\n",
       "      <th>AAPL</th>\n",
       "      <th>SB</th>\n",
       "    </tr>\n",
       "    <tr>\n",
       "      <th>Date</th>\n",
       "      <th></th>\n",
       "      <th></th>\n",
       "      <th></th>\n",
       "    </tr>\n",
       "  </thead>\n",
       "  <tbody>\n",
       "    <tr>\n",
       "      <th>2018-12-24</th>\n",
       "      <td>106.675957</td>\n",
       "      <td>35.537254</td>\n",
       "      <td>1.700761</td>\n",
       "    </tr>\n",
       "    <tr>\n",
       "      <th>2018-12-26</th>\n",
       "      <td>105.144279</td>\n",
       "      <td>38.039848</td>\n",
       "      <td>1.769978</td>\n",
       "    </tr>\n",
       "    <tr>\n",
       "      <th>2018-12-27</th>\n",
       "      <td>104.705322</td>\n",
       "      <td>37.792976</td>\n",
       "      <td>1.760089</td>\n",
       "    </tr>\n",
       "    <tr>\n",
       "      <th>2018-12-28</th>\n",
       "      <td>105.213966</td>\n",
       "      <td>37.812332</td>\n",
       "      <td>1.720537</td>\n",
       "    </tr>\n",
       "    <tr>\n",
       "      <th>2018-12-31</th>\n",
       "      <td>105.958076</td>\n",
       "      <td>38.177807</td>\n",
       "      <td>1.760089</td>\n",
       "    </tr>\n",
       "  </tbody>\n",
       "</table>\n",
       "</div>"
      ],
      "text/plain": [
       "                  ZROZ       AAPL        SB\n",
       "Date                                       \n",
       "2018-12-24  106.675957  35.537254  1.700761\n",
       "2018-12-26  105.144279  38.039848  1.769978\n",
       "2018-12-27  104.705322  37.792976  1.760089\n",
       "2018-12-28  105.213966  37.812332  1.720537\n",
       "2018-12-31  105.958076  38.177807  1.760089"
      ]
     },
     "execution_count": 25,
     "metadata": {},
     "output_type": "execute_result"
    }
   ],
   "source": [
    "df.tail()"
   ]
  },
  {
   "cell_type": "code",
   "execution_count": 26,
   "metadata": {
    "execution": {
     "iopub.execute_input": "2020-06-26T00:41:40.938Z",
     "iopub.status.busy": "2020-06-26T00:41:40.927Z",
     "iopub.status.idle": "2020-06-26T00:41:40.960Z",
     "shell.execute_reply": "2020-06-26T00:41:42.480Z"
    },
    "inputHidden": false,
    "outputHidden": false
   },
   "outputs": [
    {
     "name": "stdout",
     "output_type": "stream",
     "text": [
      "Percentage of invest:\n",
      "Bonds: 33250.0\n",
      "Stocks: 42750.0\n",
      "Commodities: 14250.0\n"
     ]
    }
   ],
   "source": [
    "print('Percentage of invest:')\n",
    "percent_invest = [0.35, 0.45, 0.15]\n",
    "names = ['Bonds', 'Stocks', 'Commodities']\n",
    "for i, x in zip(names, percent_invest):\n",
    "    cost = x * cash_to_invest\n",
    "    print('{}: {}'.format(i, cost))"
   ]
  },
  {
   "cell_type": "code",
   "execution_count": 27,
   "metadata": {
    "execution": {
     "iopub.execute_input": "2020-06-26T00:41:40.987Z",
     "iopub.status.busy": "2020-06-26T00:41:40.976Z",
     "iopub.status.idle": "2020-06-26T00:41:41.010Z",
     "shell.execute_reply": "2020-06-26T00:41:42.486Z"
    },
    "inputHidden": false,
    "outputHidden": false
   },
   "outputs": [
    {
     "data": {
      "text/plain": [
       "ZROZ    83.977608\n",
       "AAPL    12.557468\n",
       "SB       5.250925\n",
       "Name: 2012-01-03 00:00:00, dtype: float64"
      ]
     },
     "execution_count": 27,
     "metadata": {},
     "output_type": "execute_result"
    }
   ],
   "source": [
    "df.iloc[0]"
   ]
  },
  {
   "cell_type": "code",
   "execution_count": 28,
   "metadata": {},
   "outputs": [
    {
     "data": {
      "text/html": [
       "<div>\n",
       "<style scoped>\n",
       "    .dataframe tbody tr th:only-of-type {\n",
       "        vertical-align: middle;\n",
       "    }\n",
       "\n",
       "    .dataframe tbody tr th {\n",
       "        vertical-align: top;\n",
       "    }\n",
       "\n",
       "    .dataframe thead th {\n",
       "        text-align: right;\n",
       "    }\n",
       "</style>\n",
       "<table border=\"1\" class=\"dataframe\">\n",
       "  <thead>\n",
       "    <tr style=\"text-align: right;\">\n",
       "      <th></th>\n",
       "      <th>ZROZ</th>\n",
       "      <th>AAPL</th>\n",
       "      <th>SB</th>\n",
       "    </tr>\n",
       "    <tr>\n",
       "      <th>Date</th>\n",
       "      <th></th>\n",
       "      <th></th>\n",
       "      <th></th>\n",
       "    </tr>\n",
       "  </thead>\n",
       "  <tbody>\n",
       "    <tr>\n",
       "      <th>2012-01-03</th>\n",
       "      <td>83.977608</td>\n",
       "      <td>12.557468</td>\n",
       "      <td>5.250925</td>\n",
       "    </tr>\n",
       "    <tr>\n",
       "      <th>2012-01-04</th>\n",
       "      <td>82.734703</td>\n",
       "      <td>12.624949</td>\n",
       "      <td>5.352229</td>\n",
       "    </tr>\n",
       "    <tr>\n",
       "      <th>2012-01-05</th>\n",
       "      <td>81.738815</td>\n",
       "      <td>12.765116</td>\n",
       "      <td>5.571721</td>\n",
       "    </tr>\n",
       "    <tr>\n",
       "      <th>2012-01-06</th>\n",
       "      <td>82.788734</td>\n",
       "      <td>12.898557</td>\n",
       "      <td>5.504185</td>\n",
       "    </tr>\n",
       "    <tr>\n",
       "      <th>2012-01-09</th>\n",
       "      <td>82.487679</td>\n",
       "      <td>12.878096</td>\n",
       "      <td>5.529511</td>\n",
       "    </tr>\n",
       "  </tbody>\n",
       "</table>\n",
       "</div>"
      ],
      "text/plain": [
       "                 ZROZ       AAPL        SB\n",
       "Date                                      \n",
       "2012-01-03  83.977608  12.557468  5.250925\n",
       "2012-01-04  82.734703  12.624949  5.352229\n",
       "2012-01-05  81.738815  12.765116  5.571721\n",
       "2012-01-06  82.788734  12.898557  5.504185\n",
       "2012-01-09  82.487679  12.878096  5.529511"
      ]
     },
     "execution_count": 28,
     "metadata": {},
     "output_type": "execute_result"
    }
   ],
   "source": [
    "df.head()"
   ]
  },
  {
   "cell_type": "code",
   "execution_count": 29,
   "metadata": {
    "execution": {
     "iopub.execute_input": "2020-06-26T00:41:41.034Z",
     "iopub.status.busy": "2020-06-26T00:41:41.024Z",
     "iopub.status.idle": "2020-06-26T00:41:41.053Z",
     "shell.execute_reply": "2020-06-26T00:41:42.493Z"
    },
    "inputHidden": false,
    "outputHidden": false
   },
   "outputs": [
    {
     "data": {
      "text/plain": [
       "1.76008939743042"
      ]
     },
     "execution_count": 29,
     "metadata": {},
     "output_type": "execute_result"
    }
   ],
   "source": [
    "df.SB[-1]"
   ]
  },
  {
   "cell_type": "code",
   "execution_count": 30,
   "metadata": {
    "execution": {
     "iopub.execute_input": "2020-06-26T00:41:41.076Z",
     "iopub.status.busy": "2020-06-26T00:41:41.066Z",
     "iopub.status.idle": "2020-06-26T00:41:41.099Z",
     "shell.execute_reply": "2020-06-26T00:41:42.498Z"
    },
    "inputHidden": false,
    "outputHidden": false
   },
   "outputs": [
    {
     "name": "stdout",
     "output_type": "stream",
     "text": [
      "Number of Shares:\n",
      "ZROZ: 395\n",
      "AAPL: 3404\n",
      "SB: 2713\n"
     ]
    }
   ],
   "source": [
    "print('Number of Shares:')\n",
    "percent_invest = [0.35, 0.45, 0.15]\n",
    "for i, x, y in zip(df.columns, percent_invest, df.iloc[0]):\n",
    "    cost = x * cash_to_invest\n",
    "    shares = int(cost/y)\n",
    "    print('{}: {}'.format(i, shares))"
   ]
  },
  {
   "cell_type": "code",
   "execution_count": 31,
   "metadata": {
    "execution": {
     "iopub.execute_input": "2020-06-26T00:41:41.122Z",
     "iopub.status.busy": "2020-06-26T00:41:41.113Z",
     "iopub.status.idle": "2020-06-26T00:41:41.142Z",
     "shell.execute_reply": "2020-06-26T00:41:42.504Z"
    },
    "inputHidden": false,
    "outputHidden": false
   },
   "outputs": [
    {
     "name": "stdout",
     "output_type": "stream",
     "text": [
      "Beginning Value:\n",
      "ZROZ: $33171.16\n",
      "AAPL: $42745.62\n",
      "SB: $14245.76\n"
     ]
    }
   ],
   "source": [
    "print('Beginning Value:')\n",
    "percent_invest = [0.35, 0.45, 0.15]\n",
    "for i, x, y in zip(df.columns, percent_invest, df.iloc[0]):\n",
    "    cost = x * cash_to_invest\n",
    "    shares = int(cost/y)\n",
    "    Begin_Value = round(shares * y, 2)\n",
    "    print('{}: ${}'.format(i, Begin_Value))"
   ]
  },
  {
   "cell_type": "code",
   "execution_count": 32,
   "metadata": {
    "execution": {
     "iopub.execute_input": "2020-06-26T00:41:41.169Z",
     "iopub.status.busy": "2020-06-26T00:41:41.158Z",
     "iopub.status.idle": "2020-06-26T00:41:41.194Z",
     "shell.execute_reply": "2020-06-26T00:41:42.511Z"
    },
    "inputHidden": false,
    "outputHidden": false
   },
   "outputs": [
    {
     "name": "stdout",
     "output_type": "stream",
     "text": [
      "Current Value:\n",
      "ZROZ: $4313977.13\n",
      "AAPL: $1208938.43\n",
      "SB: $167208.49\n"
     ]
    }
   ],
   "source": [
    "print('Current Value:')\n",
    "percent_invest = [0.35, 0.45, 0.15]\n",
    "for i, x, y, z in zip(df.columns, percent_invest, df.iloc[0], df.iloc[-1]):\n",
    "    shares = int(cost/x)\n",
    "    Begin_Value = round(shares * y, 2)\n",
    "    Current_Value = round(shares * z, 2)\n",
    "    print('{}: ${}'.format(i, Current_Value))"
   ]
  },
  {
   "cell_type": "code",
   "execution_count": 33,
   "metadata": {
    "execution": {
     "iopub.execute_input": "2020-06-26T00:41:41.220Z",
     "iopub.status.busy": "2020-06-26T00:41:41.210Z",
     "iopub.status.idle": "2020-06-26T00:41:41.240Z",
     "shell.execute_reply": "2020-06-26T00:41:42.517Z"
    },
    "inputHidden": false,
    "outputHidden": false
   },
   "outputs": [
    {
     "name": "stdout",
     "output_type": "stream",
     "text": [
      "Total Value: $5690124.05\n"
     ]
    }
   ],
   "source": [
    "result = []\n",
    "percent_invest = [0.35, 0.45, 0.15]\n",
    "for i, x, y, z in zip(df.columns, percent_invest, df.iloc[0], df.iloc[-1]):\n",
    "    shares = int(cost/x)\n",
    "    Begin_Value = round(shares * y, 2)\n",
    "    Current_Value = round(shares * z, 2)\n",
    "    result.append(Current_Value)\n",
    "print('Total Value: $%s' % round(sum(result),2))"
   ]
  },
  {
   "cell_type": "code",
   "execution_count": 34,
   "metadata": {
    "execution": {
     "iopub.execute_input": "2020-06-26T00:41:41.268Z",
     "iopub.status.busy": "2020-06-26T00:41:41.256Z",
     "iopub.status.idle": "2020-06-26T00:41:41.284Z",
     "shell.execute_reply": "2020-06-26T00:41:42.525Z"
    },
    "inputHidden": false,
    "outputHidden": false
   },
   "outputs": [],
   "source": [
    "# Calculate Daily Returns\n",
    "returns = df.pct_change()\n",
    "returns = returns.dropna()"
   ]
  },
  {
   "cell_type": "code",
   "execution_count": 35,
   "metadata": {
    "execution": {
     "iopub.execute_input": "2020-06-26T00:41:41.312Z",
     "iopub.status.busy": "2020-06-26T00:41:41.302Z",
     "iopub.status.idle": "2020-06-26T00:41:41.333Z",
     "shell.execute_reply": "2020-06-26T00:41:42.533Z"
    },
    "inputHidden": false,
    "outputHidden": false
   },
   "outputs": [
    {
     "name": "stdout",
     "output_type": "stream",
     "text": [
      "ZROZ    0.000209\n",
      "AAPL    0.000761\n",
      "SB      0.000202\n",
      "dtype: float64\n"
     ]
    }
   ],
   "source": [
    "# Calculate mean returns\n",
    "meanDailyReturns = returns.mean()\n",
    "print(meanDailyReturns)"
   ]
  },
  {
   "cell_type": "code",
   "execution_count": 36,
   "metadata": {
    "execution": {
     "iopub.execute_input": "2020-06-26T00:41:41.363Z",
     "iopub.status.busy": "2020-06-26T00:41:41.349Z",
     "iopub.status.idle": "2020-06-26T00:41:41.384Z",
     "shell.execute_reply": "2020-06-26T00:41:42.542Z"
    },
    "inputHidden": false,
    "outputHidden": false
   },
   "outputs": [
    {
     "name": "stdout",
     "output_type": "stream",
     "text": [
      "ZROZ    0.012353\n",
      "AAPL    0.016042\n",
      "SB      0.040456\n",
      "dtype: float64\n"
     ]
    }
   ],
   "source": [
    "# Calculate std returns\n",
    "stdDailyReturns = returns.std()\n",
    "print(stdDailyReturns)"
   ]
  },
  {
   "cell_type": "code",
   "execution_count": 37,
   "metadata": {
    "execution": {
     "iopub.execute_input": "2020-06-26T00:41:41.409Z",
     "iopub.status.busy": "2020-06-26T00:41:41.398Z",
     "iopub.status.idle": "2020-06-26T00:41:41.423Z",
     "shell.execute_reply": "2020-06-26T00:41:42.548Z"
    },
    "inputHidden": false,
    "outputHidden": false
   },
   "outputs": [],
   "source": [
    "# Define weights for the portfolio\n",
    "weights = np.array([0.35, 0.45, 0.15])"
   ]
  },
  {
   "cell_type": "code",
   "execution_count": 38,
   "metadata": {
    "execution": {
     "iopub.execute_input": "2020-06-26T00:41:41.447Z",
     "iopub.status.busy": "2020-06-26T00:41:41.438Z",
     "iopub.status.idle": "2020-06-26T00:41:41.467Z",
     "shell.execute_reply": "2020-06-26T00:41:42.555Z"
    },
    "inputHidden": false,
    "outputHidden": false
   },
   "outputs": [
    {
     "name": "stdout",
     "output_type": "stream",
     "text": [
      "          ZROZ      AAPL        SB\n",
      "ZROZ  0.038152 -0.009758 -0.018241\n",
      "AAPL -0.009758  0.064337  0.033587\n",
      "SB   -0.018241  0.033587  0.409162\n"
     ]
    }
   ],
   "source": [
    "# Calculate the covariance matrix on daily returns\n",
    "cov_matrix = (returns.cov())*250\n",
    "print (cov_matrix)"
   ]
  },
  {
   "cell_type": "code",
   "execution_count": 39,
   "metadata": {
    "execution": {
     "iopub.execute_input": "2020-06-26T00:41:41.489Z",
     "iopub.status.busy": "2020-06-26T00:41:41.481Z",
     "iopub.status.idle": "2020-06-26T00:41:41.503Z",
     "shell.execute_reply": "2020-06-26T00:41:42.563Z"
    },
    "inputHidden": false,
    "outputHidden": false
   },
   "outputs": [],
   "source": [
    "# Calculate expected portfolio performance\n",
    "portReturn = np.sum(meanDailyReturns*weights)"
   ]
  },
  {
   "cell_type": "code",
   "execution_count": 40,
   "metadata": {
    "execution": {
     "iopub.execute_input": "2020-06-26T00:41:41.525Z",
     "iopub.status.busy": "2020-06-26T00:41:41.517Z",
     "iopub.status.idle": "2020-06-26T00:41:41.543Z",
     "shell.execute_reply": "2020-06-26T00:41:42.572Z"
    },
    "inputHidden": false,
    "outputHidden": false
   },
   "outputs": [
    {
     "name": "stdout",
     "output_type": "stream",
     "text": [
      "0.00044588815841989387\n"
     ]
    }
   ],
   "source": [
    "# Print the portfolio return\n",
    "print(portReturn)"
   ]
  },
  {
   "cell_type": "code",
   "execution_count": 41,
   "metadata": {
    "execution": {
     "iopub.execute_input": "2020-06-26T00:41:41.564Z",
     "iopub.status.busy": "2020-06-26T00:41:41.556Z",
     "iopub.status.idle": "2020-06-26T00:41:41.584Z",
     "shell.execute_reply": "2020-06-26T00:41:42.578Z"
    },
    "inputHidden": false,
    "outputHidden": false
   },
   "outputs": [],
   "source": [
    "# Create portfolio returns column\n",
    "returns['Portfolio'] = returns.dot(weights)"
   ]
  },
  {
   "cell_type": "code",
   "execution_count": 42,
   "metadata": {
    "execution": {
     "iopub.execute_input": "2020-06-26T00:41:41.611Z",
     "iopub.status.busy": "2020-06-26T00:41:41.600Z",
     "iopub.status.idle": "2020-06-26T00:41:41.633Z",
     "shell.execute_reply": "2020-06-26T00:41:42.585Z"
    },
    "inputHidden": false,
    "outputHidden": false
   },
   "outputs": [
    {
     "data": {
      "text/html": [
       "<div>\n",
       "<style scoped>\n",
       "    .dataframe tbody tr th:only-of-type {\n",
       "        vertical-align: middle;\n",
       "    }\n",
       "\n",
       "    .dataframe tbody tr th {\n",
       "        vertical-align: top;\n",
       "    }\n",
       "\n",
       "    .dataframe thead th {\n",
       "        text-align: right;\n",
       "    }\n",
       "</style>\n",
       "<table border=\"1\" class=\"dataframe\">\n",
       "  <thead>\n",
       "    <tr style=\"text-align: right;\">\n",
       "      <th></th>\n",
       "      <th>ZROZ</th>\n",
       "      <th>AAPL</th>\n",
       "      <th>SB</th>\n",
       "      <th>Portfolio</th>\n",
       "    </tr>\n",
       "    <tr>\n",
       "      <th>Date</th>\n",
       "      <th></th>\n",
       "      <th></th>\n",
       "      <th></th>\n",
       "      <th></th>\n",
       "    </tr>\n",
       "  </thead>\n",
       "  <tbody>\n",
       "    <tr>\n",
       "      <th>2012-01-04</th>\n",
       "      <td>-0.014800</td>\n",
       "      <td>0.005374</td>\n",
       "      <td>0.019293</td>\n",
       "      <td>0.000132</td>\n",
       "    </tr>\n",
       "    <tr>\n",
       "      <th>2012-01-05</th>\n",
       "      <td>-0.012037</td>\n",
       "      <td>0.011102</td>\n",
       "      <td>0.041009</td>\n",
       "      <td>0.006934</td>\n",
       "    </tr>\n",
       "    <tr>\n",
       "      <th>2012-01-06</th>\n",
       "      <td>0.012845</td>\n",
       "      <td>0.010454</td>\n",
       "      <td>-0.012121</td>\n",
       "      <td>0.007382</td>\n",
       "    </tr>\n",
       "    <tr>\n",
       "      <th>2012-01-09</th>\n",
       "      <td>-0.003636</td>\n",
       "      <td>-0.001586</td>\n",
       "      <td>0.004601</td>\n",
       "      <td>-0.001296</td>\n",
       "    </tr>\n",
       "    <tr>\n",
       "      <th>2012-01-10</th>\n",
       "      <td>-0.002808</td>\n",
       "      <td>0.003581</td>\n",
       "      <td>0.010687</td>\n",
       "      <td>0.002232</td>\n",
       "    </tr>\n",
       "  </tbody>\n",
       "</table>\n",
       "</div>"
      ],
      "text/plain": [
       "                ZROZ      AAPL        SB  Portfolio\n",
       "Date                                               \n",
       "2012-01-04 -0.014800  0.005374  0.019293   0.000132\n",
       "2012-01-05 -0.012037  0.011102  0.041009   0.006934\n",
       "2012-01-06  0.012845  0.010454 -0.012121   0.007382\n",
       "2012-01-09 -0.003636 -0.001586  0.004601  -0.001296\n",
       "2012-01-10 -0.002808  0.003581  0.010687   0.002232"
      ]
     },
     "execution_count": 42,
     "metadata": {},
     "output_type": "execute_result"
    }
   ],
   "source": [
    "returns.head()"
   ]
  },
  {
   "cell_type": "code",
   "execution_count": 43,
   "metadata": {
    "execution": {
     "iopub.execute_input": "2020-06-26T00:41:41.656Z",
     "iopub.status.busy": "2020-06-26T00:41:41.647Z",
     "iopub.status.idle": "2020-06-26T00:41:41.676Z",
     "shell.execute_reply": "2020-06-26T00:41:42.591Z"
    },
    "inputHidden": false,
    "outputHidden": false
   },
   "outputs": [
    {
     "data": {
      "text/html": [
       "<div>\n",
       "<style scoped>\n",
       "    .dataframe tbody tr th:only-of-type {\n",
       "        vertical-align: middle;\n",
       "    }\n",
       "\n",
       "    .dataframe tbody tr th {\n",
       "        vertical-align: top;\n",
       "    }\n",
       "\n",
       "    .dataframe thead th {\n",
       "        text-align: right;\n",
       "    }\n",
       "</style>\n",
       "<table border=\"1\" class=\"dataframe\">\n",
       "  <thead>\n",
       "    <tr style=\"text-align: right;\">\n",
       "      <th></th>\n",
       "      <th>ZROZ</th>\n",
       "      <th>AAPL</th>\n",
       "      <th>SB</th>\n",
       "      <th>Portfolio</th>\n",
       "    </tr>\n",
       "    <tr>\n",
       "      <th>Date</th>\n",
       "      <th></th>\n",
       "      <th></th>\n",
       "      <th></th>\n",
       "      <th></th>\n",
       "    </tr>\n",
       "  </thead>\n",
       "  <tbody>\n",
       "    <tr>\n",
       "      <th>2018-12-24</th>\n",
       "      <td>0.006255</td>\n",
       "      <td>-0.025874</td>\n",
       "      <td>-0.011494</td>\n",
       "      <td>-0.011178</td>\n",
       "    </tr>\n",
       "    <tr>\n",
       "      <th>2018-12-26</th>\n",
       "      <td>-0.014358</td>\n",
       "      <td>0.070422</td>\n",
       "      <td>0.040698</td>\n",
       "      <td>0.032769</td>\n",
       "    </tr>\n",
       "    <tr>\n",
       "      <th>2018-12-27</th>\n",
       "      <td>-0.004175</td>\n",
       "      <td>-0.006490</td>\n",
       "      <td>-0.005587</td>\n",
       "      <td>-0.005220</td>\n",
       "    </tr>\n",
       "    <tr>\n",
       "      <th>2018-12-28</th>\n",
       "      <td>0.004858</td>\n",
       "      <td>0.000512</td>\n",
       "      <td>-0.022472</td>\n",
       "      <td>-0.001440</td>\n",
       "    </tr>\n",
       "    <tr>\n",
       "      <th>2018-12-31</th>\n",
       "      <td>0.007072</td>\n",
       "      <td>0.009665</td>\n",
       "      <td>0.022989</td>\n",
       "      <td>0.010273</td>\n",
       "    </tr>\n",
       "  </tbody>\n",
       "</table>\n",
       "</div>"
      ],
      "text/plain": [
       "                ZROZ      AAPL        SB  Portfolio\n",
       "Date                                               \n",
       "2018-12-24  0.006255 -0.025874 -0.011494  -0.011178\n",
       "2018-12-26 -0.014358  0.070422  0.040698   0.032769\n",
       "2018-12-27 -0.004175 -0.006490 -0.005587  -0.005220\n",
       "2018-12-28  0.004858  0.000512 -0.022472  -0.001440\n",
       "2018-12-31  0.007072  0.009665  0.022989   0.010273"
      ]
     },
     "execution_count": 43,
     "metadata": {},
     "output_type": "execute_result"
    }
   ],
   "source": [
    "returns.tail()"
   ]
  },
  {
   "cell_type": "code",
   "execution_count": 44,
   "metadata": {
    "execution": {
     "iopub.execute_input": "2020-06-26T00:41:41.702Z",
     "iopub.status.busy": "2020-06-26T00:41:41.690Z",
     "iopub.status.idle": "2020-06-26T00:41:41.724Z",
     "shell.execute_reply": "2020-06-26T00:41:42.597Z"
    },
    "inputHidden": false,
    "outputHidden": false
   },
   "outputs": [
    {
     "name": "stdout",
     "output_type": "stream",
     "text": [
      "                ZROZ      AAPL        SB  Portfolio\n",
      "Date                                               \n",
      "2018-12-24  1.270290  2.829970  0.323897   1.925676\n",
      "2018-12-26  1.252051  3.029261  0.337079   1.988779\n",
      "2018-12-27  1.246824  3.009602  0.335196   1.978398\n",
      "2018-12-28  1.252881  3.011143  0.327664   1.975549\n",
      "2018-12-31  1.261742  3.040247  0.335196   1.995844\n"
     ]
    }
   ],
   "source": [
    "# Calculate cumulative returns\n",
    "daily_cum_ret=(1+returns).cumprod()\n",
    "print(daily_cum_ret.tail())"
   ]
  },
  {
   "cell_type": "code",
   "execution_count": 45,
   "metadata": {
    "execution": {
     "iopub.execute_input": "2020-06-26T00:41:41.750Z",
     "iopub.status.busy": "2020-06-26T00:41:41.741Z",
     "iopub.status.idle": "2020-06-26T00:41:41.769Z",
     "shell.execute_reply": "2020-06-26T00:41:42.604Z"
    },
    "inputHidden": false,
    "outputHidden": false
   },
   "outputs": [
    {
     "data": {
      "image/png": "[encoded data removed]",
      "text/plain": [
       "<Figure size 432x288 with 1 Axes>"
      ]
     },
     "metadata": {
      "needs_background": "light"
     },
     "output_type": "display_data"
    }
   ],
   "source": [
    "returns['Portfolio'].hist()\n",
    "plt.show()"
   ]
  },
  {
   "cell_type": "code",
   "execution_count": 46,
   "metadata": {
    "execution": {
     "iopub.execute_input": "2020-06-26T00:41:41.794Z",
     "iopub.status.busy": "2020-06-26T00:41:41.784Z",
     "iopub.status.idle": "2020-06-26T00:41:41.812Z",
     "shell.execute_reply": "2020-06-26T00:41:42.610Z"
    },
    "inputHidden": false,
    "outputHidden": false
   },
   "outputs": [
    {
     "data": {
      "image/png": "[encoded data removed]",
      "text/plain": [
       "<Figure size 432x288 with 1 Axes>"
      ]
     },
     "metadata": {
      "needs_background": "light"
     },
     "output_type": "display_data"
    }
   ],
   "source": [
    "import matplotlib.dates\n",
    "\n",
    "# Plot the portfolio cumulative returns only\n",
    "fig, ax = plt.subplots()\n",
    "ax.plot(daily_cum_ret.index, daily_cum_ret.Portfolio, color='purple', label=\"portfolio\")\n",
    "ax.xaxis.set_major_locator(matplotlib.dates.YearLocator())\n",
    "plt.title(title)\n",
    "plt.legend()\n",
    "plt.show()"
   ]
  },
  {
   "cell_type": "code",
   "execution_count": 47,
   "metadata": {
    "execution": {
     "iopub.execute_input": "2020-06-26T00:41:41.838Z",
     "iopub.status.busy": "2020-06-26T00:41:41.828Z",
     "iopub.status.idle": "2020-06-26T00:41:41.858Z",
     "shell.execute_reply": "2020-06-26T00:41:42.615Z"
    },
    "inputHidden": false,
    "outputHidden": false
   },
   "outputs": [
    {
     "name": "stdout",
     "output_type": "stream",
     "text": [
      "mean :  0.04458881584198935\n",
      "Std. dev:  1.0286563734661973\n",
      "skew:  -0.18544474483995377\n",
      "kurt:  3.135588845594191\n"
     ]
    }
   ],
   "source": [
    "# Print the mean\n",
    "print(\"mean : \", returns['Portfolio'].mean()*100)\n",
    "\n",
    "# Print the standard deviation\n",
    "print(\"Std. dev: \", returns['Portfolio'].std()*100)\n",
    "\n",
    "# Print the skewness\n",
    "print(\"skew: \", returns['Portfolio'].skew())\n",
    "\n",
    "# Print the kurtosis\n",
    "print(\"kurt: \", returns['Portfolio'].kurtosis())"
   ]
  },
  {
   "cell_type": "code",
   "execution_count": 48,
   "metadata": {
    "execution": {
     "iopub.execute_input": "2020-06-26T00:41:41.883Z",
     "iopub.status.busy": "2020-06-26T00:41:41.872Z",
     "iopub.status.idle": "2020-06-26T00:41:41.906Z",
     "shell.execute_reply": "2020-06-26T00:41:42.625Z"
    },
    "inputHidden": false,
    "outputHidden": false
   },
   "outputs": [
    {
     "name": "stdout",
     "output_type": "stream",
     "text": [
      "16.259999999999998%\n"
     ]
    }
   ],
   "source": [
    "# Calculate the standard deviation by taking the square root\n",
    "port_standard_dev = np.sqrt(np.dot(weights.T, np.dot(weights, cov_matrix)))\n",
    "\n",
    "# Print the results \n",
    "print(str(np.round(port_standard_dev, 4) * 100) + '%')"
   ]
  },
  {
   "cell_type": "code",
   "execution_count": 49,
   "metadata": {
    "execution": {
     "iopub.execute_input": "2020-06-26T00:41:41.937Z",
     "iopub.status.busy": "2020-06-26T00:41:41.927Z",
     "iopub.status.idle": "2020-06-26T00:41:41.956Z",
     "shell.execute_reply": "2020-06-26T00:41:42.634Z"
    },
    "inputHidden": false,
    "outputHidden": false
   },
   "outputs": [
    {
     "name": "stdout",
     "output_type": "stream",
     "text": [
      "2.65%\n"
     ]
    }
   ],
   "source": [
    "# Calculate the portfolio variance\n",
    "port_variance = np.dot(weights.T, np.dot(cov_matrix, weights))\n",
    "\n",
    "# Print the result\n",
    "print(str(np.round(port_variance, 4) * 100) + '%')"
   ]
  },
  {
   "cell_type": "code",
   "execution_count": 50,
   "metadata": {
    "execution": {
     "iopub.execute_input": "2020-06-26T00:41:41.979Z",
     "iopub.status.busy": "2020-06-26T00:41:41.970Z",
     "iopub.status.idle": "2020-06-26T00:41:41.992Z",
     "shell.execute_reply": "2020-06-26T00:41:42.644Z"
    },
    "inputHidden": false,
    "outputHidden": false
   },
   "outputs": [],
   "source": [
    "# Calculate total return and annualized return from price data \n",
    "total_return = (returns['Portfolio'][-1] - returns['Portfolio'][0]) / returns['Portfolio'][0]\n",
    "\n",
    "# Annualize the total return over 5 year \n",
    "annualized_return = ((total_return + 1)**(1/5))-1"
   ]
  },
  {
   "cell_type": "code",
   "execution_count": 51,
   "metadata": {
    "execution": {
     "iopub.execute_input": "2020-06-26T00:41:42.015Z",
     "iopub.status.busy": "2020-06-26T00:41:42.006Z",
     "iopub.status.idle": "2020-06-26T00:41:42.032Z",
     "shell.execute_reply": "2020-06-26T00:41:42.653Z"
    },
    "inputHidden": false,
    "outputHidden": false
   },
   "outputs": [],
   "source": [
    "# Calculate annualized volatility from the standard deviation\n",
    "vol_port = returns['Portfolio'].std() * np.sqrt(250)"
   ]
  },
  {
   "cell_type": "code",
   "execution_count": 52,
   "metadata": {
    "execution": {
     "iopub.execute_input": "2020-06-26T00:41:42.061Z",
     "iopub.status.busy": "2020-06-26T00:41:42.049Z",
     "iopub.status.idle": "2020-06-26T00:41:42.083Z",
     "shell.execute_reply": "2020-06-26T00:41:42.663Z"
    },
    "inputHidden": false,
    "outputHidden": false
   },
   "outputs": [
    {
     "name": "stdout",
     "output_type": "stream",
     "text": [
      "8.48020752260867\n"
     ]
    }
   ],
   "source": [
    "# Calculate the Sharpe ratio \n",
    "rf = 0.01\n",
    "sharpe_ratio = ((annualized_return - rf) / vol_port)\n",
    "print(sharpe_ratio)"
   ]
  },
  {
   "cell_type": "code",
   "execution_count": 53,
   "metadata": {
    "execution": {
     "iopub.execute_input": "2020-06-26T00:41:42.111Z",
     "iopub.status.busy": "2020-06-26T00:41:42.100Z",
     "iopub.status.idle": "2020-06-26T00:41:42.132Z",
     "shell.execute_reply": "2020-06-26T00:41:42.672Z"
    },
    "inputHidden": false,
    "outputHidden": false
   },
   "outputs": [
    {
     "name": "stdout",
     "output_type": "stream",
     "text": [
      "Expected return:  0.04458881584198935\n",
      "--------------------------------------------------\n",
      "Downside risk:\n",
      "ZROZ         1.330978\n",
      "AAPL         1.392203\n",
      "SB           3.547902\n",
      "Portfolio    0.711118\n",
      "dtype: float64\n",
      "--------------------------------------------------\n",
      "Sortino ratio:\n",
      "ZROZ        -0.717826\n",
      "AAPL        -0.686258\n",
      "SB          -0.269289\n",
      "Portfolio   -1.343534\n",
      "dtype: float64\n"
     ]
    }
   ],
   "source": [
    "# Create a downside return column with the negative returns only\n",
    "target = 0\n",
    "downside_returns = returns.loc[returns['Portfolio'] < target]\n",
    "\n",
    "# Calculate expected return and std dev of downside\n",
    "expected_return = returns['Portfolio'].mean()\n",
    "down_stdev = downside_returns.std()\n",
    "\n",
    "# Calculate the sortino ratio\n",
    "rf = 0.01\n",
    "sortino_ratio = (expected_return - rf)/down_stdev\n",
    "\n",
    "# Print the results\n",
    "print(\"Expected return: \", expected_return*100)\n",
    "print('-' * 50)\n",
    "print(\"Downside risk:\")\n",
    "print(down_stdev*100)\n",
    "print('-' * 50)\n",
    "print(\"Sortino ratio:\")\n",
    "print(sortino_ratio)"
   ]
  },
  {
   "cell_type": "code",
   "execution_count": 54,
   "metadata": {
    "execution": {
     "iopub.execute_input": "2020-06-26T00:41:42.157Z",
     "iopub.status.busy": "2020-06-26T00:41:42.148Z",
     "iopub.status.idle": "2020-06-26T00:41:42.183Z",
     "shell.execute_reply": "2020-06-26T00:41:42.679Z"
    },
    "inputHidden": false,
    "outputHidden": false
   },
   "outputs": [
    {
     "data": {
      "image/png": "[encoded data removed]",
      "text/plain": [
       "<Figure size 1080x1080 with 1 Axes>"
      ]
     },
     "metadata": {
      "needs_background": "light"
     },
     "output_type": "display_data"
    }
   ],
   "source": [
    "# Calculate the max value \n",
    "roll_max = returns['Portfolio'].rolling(center=False,min_periods=1,window=252).max()\n",
    "\n",
    "# Calculate the daily draw-down relative to the max\n",
    "daily_draw_down = returns['Portfolio']/roll_max - 1.0\n",
    "\n",
    "# Calculate the minimum (negative) daily draw-down\n",
    "max_daily_draw_down = daily_draw_down.rolling(center=False,min_periods=1,window=252).min()\n",
    "\n",
    "# Plot the results\n",
    "plt.figure(figsize=(15,15))\n",
    "plt.plot(returns.index, daily_draw_down, label='Daily drawdown')\n",
    "plt.plot(returns.index, max_daily_draw_down, label='Maximum daily drawdown in time-window')\n",
    "plt.legend()\n",
    "plt.show()"
   ]
  },
  {
   "cell_type": "code",
   "execution_count": 55,
   "metadata": {
    "execution": {
     "iopub.execute_input": "2020-06-26T00:41:42.210Z",
     "iopub.status.busy": "2020-06-26T00:41:42.199Z",
     "iopub.status.idle": "2020-06-26T00:41:42.245Z",
     "shell.execute_reply": "2020-06-26T00:41:42.687Z"
    },
    "inputHidden": false,
    "outputHidden": false
   },
   "outputs": [
    {
     "data": {
      "text/plain": [
       "<matplotlib.axes._subplots.AxesSubplot at 0x22a666e2208>"
      ]
     },
     "execution_count": 55,
     "metadata": {},
     "output_type": "execute_result"
    },
    {
     "data": {
      "image/png": "[encoded data removed]",
      "text/plain": [
       "<Figure size 504x504 with 2 Axes>"
      ]
     },
     "metadata": {
      "needs_background": "light"
     },
     "output_type": "display_data"
    }
   ],
   "source": [
    "plt.figure(figsize=(7,7))\n",
    "corr = returns.corr()\n",
    "\n",
    "# plot the heatmap\n",
    "sns.heatmap(corr, \n",
    "        xticklabels=corr.columns,\n",
    "        yticklabels=corr.columns,\n",
    "            cmap=\"Reds\")"
   ]
  },
  {
   "cell_type": "code",
   "execution_count": 56,
   "metadata": {
    "execution": {
     "iopub.execute_input": "2020-06-26T00:41:42.276Z",
     "iopub.status.busy": "2020-06-26T00:41:42.265Z",
     "iopub.status.idle": "2020-06-26T00:41:42.305Z",
     "shell.execute_reply": "2020-06-26T00:41:42.695Z"
    },
    "inputHidden": false,
    "outputHidden": false
   },
   "outputs": [
    {
     "data": {
      "text/plain": [
       "<matplotlib.axes._subplots.AxesSubplot at 0x22a6682db88>"
      ]
     },
     "execution_count": 56,
     "metadata": {},
     "output_type": "execute_result"
    },
    {
     "data": {
      "image/png": "[encoded data removed]",
      "text/plain": [
       "<Figure size 432x288 with 1 Axes>"
      ]
     },
     "metadata": {
      "needs_background": "light"
     },
     "output_type": "display_data"
    }
   ],
   "source": [
    "# Box plot\n",
    "returns.plot(kind='box')"
   ]
  },
  {
   "cell_type": "code",
   "execution_count": 64,
   "metadata": {
    "execution": {
     "iopub.execute_input": "2020-06-26T00:41:42.336Z",
     "iopub.status.busy": "2020-06-26T00:41:42.324Z",
     "iopub.status.idle": "2020-06-26T00:41:42.361Z",
     "shell.execute_reply": "2020-06-26T00:41:42.704Z"
    },
    "inputHidden": false,
    "outputHidden": false
   },
   "outputs": [
    {
     "data": {
      "image/png": "[encoded data removed]",
      "text/plain": [
       "<Figure size 432x288 with 1 Axes>"
      ]
     },
     "metadata": {},
     "output_type": "display_data"
    }
   ],
   "source": [
    "rets = returns.dropna()\n",
    "\n",
    "plt.scatter(rets.mean(), rets.std(),alpha = 0.5)\n",
    "\n",
    "plt.title('Stocks Risk & Returns')\n",
    "plt.xlabel('Expected returns')\n",
    "plt.ylabel('Risk')\n",
    "plt.grid(which='major')\n",
    "\n",
    "for label, x, y in zip(rets.columns, rets.mean(), rets.std()):\n",
    "    plt.annotate(\n",
    "        label, \n",
    "        xy = (x, y), xytext = (50, 50),\n",
    "        textcoords = 'offset points', ha = 'right', va = 'bottom',\n",
    "        arrowprops = dict(arrowstyle = '-', connectionstyle = 'arc3,rad=-0.3'))"
   ]
  },
  {
   "cell_type": "code",
   "execution_count": 58,
   "metadata": {
    "execution": {
     "iopub.execute_input": "2020-06-26T00:41:42.391Z",
     "iopub.status.busy": "2020-06-26T00:41:42.378Z",
     "iopub.status.idle": "2020-06-26T00:41:42.741Z",
     "shell.execute_reply": "2020-06-26T00:41:42.969Z"
    },
    "inputHidden": false,
    "outputHidden": false
   },
   "outputs": [
    {
     "data": {
      "image/png": "[encoded data removed]",
      "text/plain": [
       "<Figure size 864x576 with 1 Axes>"
      ]
     },
     "metadata": {},
     "output_type": "display_data"
    }
   ],
   "source": [
    "area = np.pi*20.0\n",
    "\n",
    "sns.set(style='darkgrid')\n",
    "plt.figure(figsize=(12,8))\n",
    "plt.scatter(rets.mean(), rets.std(), s=area)\n",
    "plt.xlabel(\"Expected Return\", fontsize=15)\n",
    "plt.ylabel(\"Risk\", fontsize=15)\n",
    "plt.title(\"Return vs. Risk for \" + title, fontsize=20)\n",
    "\n",
    "for label, x, y in zip(rets.columns, rets.mean(), rets.std()) : \n",
    "    plt.annotate(label, xy=(x,y), xytext=(50, 0), textcoords='offset points',\n",
    "                arrowprops=dict(arrowstyle='-', connectionstyle='bar,angle=180,fraction=-0.2'),\n",
    "                bbox=dict(boxstyle=\"round\", fc=\"w\"))"
   ]
  },
  {
   "cell_type": "code",
   "execution_count": 59,
   "metadata": {
    "execution": {
     "iopub.execute_input": "2020-06-26T00:41:42.769Z",
     "iopub.status.busy": "2020-06-26T00:41:42.759Z",
     "iopub.status.idle": "2020-06-26T00:41:42.789Z",
     "shell.execute_reply": "2020-06-26T00:41:42.975Z"
    },
    "inputHidden": false,
    "outputHidden": false
   },
   "outputs": [
    {
     "name": "stdout",
     "output_type": "stream",
     "text": [
      "Stock returns: \n",
      "ZROZ         0.000209\n",
      "AAPL         0.000761\n",
      "SB           0.000202\n",
      "Portfolio    0.000446\n",
      "dtype: float64\n",
      "--------------------------------------------------\n",
      "Stock risk:\n",
      "ZROZ         0.012353\n",
      "AAPL         0.016042\n",
      "SB           0.040456\n",
      "Portfolio    0.010287\n",
      "dtype: float64\n"
     ]
    }
   ],
   "source": [
    "print(\"Stock returns: \")\n",
    "print(rets.mean())\n",
    "print('-' * 50)\n",
    "print(\"Stock risk:\")\n",
    "print(rets.std())"
   ]
  },
  {
   "cell_type": "code",
   "execution_count": 60,
   "metadata": {
    "execution": {
     "iopub.execute_input": "2020-06-26T00:41:42.817Z",
     "iopub.status.busy": "2020-06-26T00:41:42.806Z",
     "iopub.status.idle": "2020-06-26T00:41:42.841Z",
     "shell.execute_reply": "2020-06-26T00:41:42.980Z"
    },
    "inputHidden": false,
    "outputHidden": false
   },
   "outputs": [
    {
     "data": {
      "text/html": [
       "<div>\n",
       "<style scoped>\n",
       "    .dataframe tbody tr th:only-of-type {\n",
       "        vertical-align: middle;\n",
       "    }\n",
       "\n",
       "    .dataframe tbody tr th {\n",
       "        vertical-align: top;\n",
       "    }\n",
       "\n",
       "    .dataframe thead th {\n",
       "        text-align: right;\n",
       "    }\n",
       "</style>\n",
       "<table border=\"1\" class=\"dataframe\">\n",
       "  <thead>\n",
       "    <tr style=\"text-align: right;\">\n",
       "      <th></th>\n",
       "      <th>Returns</th>\n",
       "      <th>Risk</th>\n",
       "    </tr>\n",
       "  </thead>\n",
       "  <tbody>\n",
       "    <tr>\n",
       "      <th>SB</th>\n",
       "      <td>0.000202</td>\n",
       "      <td>0.040456</td>\n",
       "    </tr>\n",
       "    <tr>\n",
       "      <th>ZROZ</th>\n",
       "      <td>0.000209</td>\n",
       "      <td>0.012353</td>\n",
       "    </tr>\n",
       "    <tr>\n",
       "      <th>Portfolio</th>\n",
       "      <td>0.000446</td>\n",
       "      <td>0.010287</td>\n",
       "    </tr>\n",
       "    <tr>\n",
       "      <th>AAPL</th>\n",
       "      <td>0.000761</td>\n",
       "      <td>0.016042</td>\n",
       "    </tr>\n",
       "  </tbody>\n",
       "</table>\n",
       "</div>"
      ],
      "text/plain": [
       "            Returns      Risk\n",
       "SB         0.000202  0.040456\n",
       "ZROZ       0.000209  0.012353\n",
       "Portfolio  0.000446  0.010287\n",
       "AAPL       0.000761  0.016042"
      ]
     },
     "execution_count": 60,
     "metadata": {},
     "output_type": "execute_result"
    }
   ],
   "source": [
    "table = pd.DataFrame()\n",
    "table['Returns'] = rets.mean()\n",
    "table['Risk'] = rets.std()\n",
    "table.sort_values(by='Returns')"
   ]
  },
  {
   "cell_type": "code",
   "execution_count": 61,
   "metadata": {
    "execution": {
     "iopub.execute_input": "2020-06-26T00:41:42.871Z",
     "iopub.status.busy": "2020-06-26T00:41:42.861Z",
     "iopub.status.idle": "2020-06-26T00:41:42.895Z",
     "shell.execute_reply": "2020-06-26T00:41:42.986Z"
    },
    "inputHidden": false,
    "outputHidden": false
   },
   "outputs": [
    {
     "data": {
      "text/html": [
       "<div>\n",
       "<style scoped>\n",
       "    .dataframe tbody tr th:only-of-type {\n",
       "        vertical-align: middle;\n",
       "    }\n",
       "\n",
       "    .dataframe tbody tr th {\n",
       "        vertical-align: top;\n",
       "    }\n",
       "\n",
       "    .dataframe thead th {\n",
       "        text-align: right;\n",
       "    }\n",
       "</style>\n",
       "<table border=\"1\" class=\"dataframe\">\n",
       "  <thead>\n",
       "    <tr style=\"text-align: right;\">\n",
       "      <th></th>\n",
       "      <th>Returns</th>\n",
       "      <th>Risk</th>\n",
       "    </tr>\n",
       "  </thead>\n",
       "  <tbody>\n",
       "    <tr>\n",
       "      <th>Portfolio</th>\n",
       "      <td>0.000446</td>\n",
       "      <td>0.010287</td>\n",
       "    </tr>\n",
       "    <tr>\n",
       "      <th>ZROZ</th>\n",
       "      <td>0.000209</td>\n",
       "      <td>0.012353</td>\n",
       "    </tr>\n",
       "    <tr>\n",
       "      <th>AAPL</th>\n",
       "      <td>0.000761</td>\n",
       "      <td>0.016042</td>\n",
       "    </tr>\n",
       "    <tr>\n",
       "      <th>SB</th>\n",
       "      <td>0.000202</td>\n",
       "      <td>0.040456</td>\n",
       "    </tr>\n",
       "  </tbody>\n",
       "</table>\n",
       "</div>"
      ],
      "text/plain": [
       "            Returns      Risk\n",
       "Portfolio  0.000446  0.010287\n",
       "ZROZ       0.000209  0.012353\n",
       "AAPL       0.000761  0.016042\n",
       "SB         0.000202  0.040456"
      ]
     },
     "execution_count": 61,
     "metadata": {},
     "output_type": "execute_result"
    }
   ],
   "source": [
    "table.sort_values(by='Risk')"
   ]
  },
  {
   "cell_type": "code",
   "execution_count": 62,
   "metadata": {
    "execution": {
     "iopub.execute_input": "2020-06-26T00:41:42.922Z",
     "iopub.status.busy": "2020-06-26T00:41:42.913Z",
     "iopub.status.idle": "2020-06-26T00:41:42.943Z",
     "shell.execute_reply": "2020-06-26T00:41:42.994Z"
    },
    "inputHidden": false,
    "outputHidden": false
   },
   "outputs": [
    {
     "data": {
      "text/html": [
       "<div>\n",
       "<style scoped>\n",
       "    .dataframe tbody tr th:only-of-type {\n",
       "        vertical-align: middle;\n",
       "    }\n",
       "\n",
       "    .dataframe tbody tr th {\n",
       "        vertical-align: top;\n",
       "    }\n",
       "\n",
       "    .dataframe thead th {\n",
       "        text-align: right;\n",
       "    }\n",
       "</style>\n",
       "<table border=\"1\" class=\"dataframe\">\n",
       "  <thead>\n",
       "    <tr style=\"text-align: right;\">\n",
       "      <th></th>\n",
       "      <th>Returns</th>\n",
       "      <th>Risk</th>\n",
       "      <th>Sharpe_Ratio</th>\n",
       "    </tr>\n",
       "  </thead>\n",
       "  <tbody>\n",
       "    <tr>\n",
       "      <th>ZROZ</th>\n",
       "      <td>0.000209</td>\n",
       "      <td>0.012353</td>\n",
       "      <td>-0.792605</td>\n",
       "    </tr>\n",
       "    <tr>\n",
       "      <th>AAPL</th>\n",
       "      <td>0.000761</td>\n",
       "      <td>0.016042</td>\n",
       "      <td>-0.575910</td>\n",
       "    </tr>\n",
       "    <tr>\n",
       "      <th>SB</th>\n",
       "      <td>0.000202</td>\n",
       "      <td>0.040456</td>\n",
       "      <td>-0.242185</td>\n",
       "    </tr>\n",
       "    <tr>\n",
       "      <th>Portfolio</th>\n",
       "      <td>0.000446</td>\n",
       "      <td>0.010287</td>\n",
       "      <td>-0.928795</td>\n",
       "    </tr>\n",
       "  </tbody>\n",
       "</table>\n",
       "</div>"
      ],
      "text/plain": [
       "            Returns      Risk  Sharpe_Ratio\n",
       "ZROZ       0.000209  0.012353     -0.792605\n",
       "AAPL       0.000761  0.016042     -0.575910\n",
       "SB         0.000202  0.040456     -0.242185\n",
       "Portfolio  0.000446  0.010287     -0.928795"
      ]
     },
     "execution_count": 62,
     "metadata": {},
     "output_type": "execute_result"
    }
   ],
   "source": [
    "rf = 0.01\n",
    "table['Sharpe_Ratio'] = (table['Returns'] - rf) / table['Risk']\n",
    "table"
   ]
  }
 ],
 "metadata": {
  "kernel_info": {
   "name": "python3"
  },
  "kernelspec": {
   "display_name": "Python 3",
   "language": "python",
   "name": "python3"
  },
  "language_info": {
   "codemirror_mode": {
    "name": "ipython",
    "version": 3
   },
   "file_extension": ".py",
   "mimetype": "text/x-python",
   "name": "python",
   "nbconvert_exporter": "python",
   "pygments_lexer": "ipython3",
   "version": "3.7.6"
  },
  "nteract": {
   "version": "0.23.3"
  }
 },
 "nbformat": 4,
 "nbformat_minor": 1
}
